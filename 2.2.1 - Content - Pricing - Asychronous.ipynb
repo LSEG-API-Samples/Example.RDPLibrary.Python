{
 "cells": [
  {
   "cell_type": "markdown",
   "metadata": {},
   "source": [
    "# Refinitiv Data Platform Library for Python\n",
    "## Content - Pricing - Asynchronous calls"
   ]
  },
  {
   "cell_type": "markdown",
   "metadata": {},
   "source": [
    "This notebook demonstrates how to retrieve Pricing snapshot data from the Refinitiv Data Platform.\n",
    "\n",
    "#### Learn more\n",
    "\n",
    "To learn more about the Refinitiv Data Platform Data Libraries just connect to the Refinitiv Developer Community. By [registering](https://developers.refinitiv.com/iam/register) and [login](https://developers.refinitiv.com/iam/login) to the Refinitiv Developer Community portal you will get free access to a number of learning materials like [Quick Start guides](https://developers.refinitiv.com/refinitiv-data-platform/refinitiv-data-platform-libraries/quick-start), [Tutorials](https://developers.refinitiv.com/refinitiv-data-platform/refinitiv-data-platform-libraries/learning), [Documentation](https://developers.refinitiv.com/refinitiv-data-platform/refinitiv-data-platform-libraries/docs) and much more.  \n",
    "\n",
    "#### Getting Help and Support\n",
    "\n",
    "If you have any questions regarding the API usage, please post them on the [Refinitiv Data Platform Q&A Forum](https://community.developers.thomsonreuters.com/spaces/231/index.html). The Refinitiv Developer Community will be very pleased to help you. \n"
   ]
  },
  {
   "cell_type": "markdown",
   "metadata": {},
   "source": [
    "## Import the library and load credentials\n",
    "\n",
    "Credentials used by this notebook are stored in the ./credentials.ipynb. Please edit ./credentials.ipynb to set your credentials and run the next cell to continue with this scripts"
   ]
  },
  {
   "cell_type": "code",
   "execution_count": 1,
   "metadata": {},
   "outputs": [],
   "source": [
    "import refinitiv.dataplatform as rdp\n",
    "import asyncio\n",
    "\n",
    "%run ./credentials.ipynb"
   ]
  },
  {
   "cell_type": "markdown",
   "metadata": {},
   "source": [
    "## Open the session of your choice\n",
    "\n",
    "Depending on the access point your application uses to connect to the Refinitiv Data Platform, it needs to call one of the following functions to create and open a session to the platform. This session will become the default session used by all other function calls."
   ]
  },
  {
   "cell_type": "markdown",
   "metadata": {},
   "source": [
    "#### Either\n",
    "\n",
    "Create and open a Desktop session to connect to the Refinitiv Data Platform pvia Eikon 4 or the Refinitiv Workspace."
   ]
  },
  {
   "cell_type": "code",
   "execution_count": 3,
   "metadata": {},
   "outputs": [
    {
     "data": {
      "text/plain": [
       "<refinitiv.dataplatform.core.session.desktop_session.DesktopSession at 0x7587550>"
      ]
     },
     "execution_count": 3,
     "metadata": {},
     "output_type": "execute_result"
    }
   ],
   "source": [
    "# The current implementation of the library does not allow Pricing data retrieval via a DesktopSession  \n",
    "\n",
    "# rdp.open_desktop_session(APP_KEY)"
   ]
  },
  {
   "cell_type": "markdown",
   "metadata": {},
   "source": [
    "#### or\n",
    "\n",
    "Create and open a Platform session to connect directly to the Refinitiv Data Platform. "
   ]
  },
  {
   "cell_type": "code",
   "execution_count": 2,
   "metadata": {},
   "outputs": [
    {
     "data": {
      "text/plain": [
       "<refinitiv.dataplatform.core.session.platform_session.PlatformSession at 0x7749198>"
      ]
     },
     "execution_count": 2,
     "metadata": {},
     "output_type": "execute_result"
    }
   ],
   "source": [
    "rdp.open_platform_session(\n",
    "    APP_KEY, \n",
    "    rdp.GrantPassword(\n",
    "        username = RDP_LOGIN, \n",
    "        password = RDP_PASSWORD\n",
    "    )\n",
    ")"
   ]
  },
  {
   "cell_type": "markdown",
   "metadata": {},
   "source": [
    "#### or\n",
    "\n",
    "Create and open a Deployed Platform session to connect directly to a deployed enterprise platform (a.k.a.TREP). "
   ]
  },
  {
   "cell_type": "code",
   "execution_count": 1,
   "metadata": {},
   "outputs": [],
   "source": [
    "# The current implementation of the library does not allow News retrieval via DeployedPlatformSession  \n",
    "\n",
    "#rdp.open_deployed_platform_session(\n",
    "#    APP_KEY,\n",
    "#    DEPLOYED_PLATFORM_HOST,\n",
    "#    DEPLOYED_PLATFORM_USER_NAME\n",
    "#)"
   ]
  },
  {
   "cell_type": "markdown",
   "metadata": {},
   "source": [
    "## Get Price snapshots\n",
    "### With synchronized parallel calls"
   ]
  },
  {
   "cell_type": "code",
   "execution_count": 7,
   "metadata": {},
   "outputs": [
    {
     "data": {
      "text/html": [
       "<div>\n",
       "<style scoped>\n",
       "    .dataframe tbody tr th:only-of-type {\n",
       "        vertical-align: middle;\n",
       "    }\n",
       "\n",
       "    .dataframe tbody tr th {\n",
       "        vertical-align: top;\n",
       "    }\n",
       "\n",
       "    .dataframe thead th {\n",
       "        text-align: right;\n",
       "    }\n",
       "</style>\n",
       "<table border=\"1\" class=\"dataframe\">\n",
       "  <thead>\n",
       "    <tr style=\"text-align: right;\">\n",
       "      <th></th>\n",
       "      <th>Instruments</th>\n",
       "      <th>BID</th>\n",
       "      <th>ASK</th>\n",
       "    </tr>\n",
       "  </thead>\n",
       "  <tbody>\n",
       "    <tr>\n",
       "      <th>0</th>\n",
       "      <td>GOOG.O</td>\n",
       "      <td>#N/P</td>\n",
       "      <td>#N/P</td>\n",
       "    </tr>\n",
       "    <tr>\n",
       "      <th>1</th>\n",
       "      <td>AAPL.O</td>\n",
       "      <td>#N/P</td>\n",
       "      <td>#N/P</td>\n",
       "    </tr>\n",
       "    <tr>\n",
       "      <th>2</th>\n",
       "      <td>FB.O</td>\n",
       "      <td>#N/P</td>\n",
       "      <td>#N/P</td>\n",
       "    </tr>\n",
       "    <tr>\n",
       "      <th>3</th>\n",
       "      <td>AMZN.O</td>\n",
       "      <td>#N/P</td>\n",
       "      <td>#N/P</td>\n",
       "    </tr>\n",
       "  </tbody>\n",
       "</table>\n",
       "</div>"
      ],
      "text/plain": [
       "  Instruments   BID   ASK\n",
       "0      GOOG.O  #N/P  #N/P\n",
       "1      AAPL.O  #N/P  #N/P\n",
       "2        FB.O  #N/P  #N/P\n",
       "3      AMZN.O  #N/P  #N/P"
      ]
     },
     "metadata": {},
     "output_type": "display_data"
    },
    {
     "data": {
      "text/html": [
       "<div>\n",
       "<style scoped>\n",
       "    .dataframe tbody tr th:only-of-type {\n",
       "        vertical-align: middle;\n",
       "    }\n",
       "\n",
       "    .dataframe tbody tr th {\n",
       "        vertical-align: top;\n",
       "    }\n",
       "\n",
       "    .dataframe thead th {\n",
       "        text-align: right;\n",
       "    }\n",
       "</style>\n",
       "<table border=\"1\" class=\"dataframe\">\n",
       "  <thead>\n",
       "    <tr style=\"text-align: right;\">\n",
       "      <th></th>\n",
       "      <th>Instruments</th>\n",
       "      <th>TIMACT</th>\n",
       "      <th>BID</th>\n",
       "      <th>ASK</th>\n",
       "      <th>NETCHNG_1</th>\n",
       "      <th>HIGH_1</th>\n",
       "      <th>LOW_1</th>\n",
       "      <th>OPEN_PRC</th>\n",
       "      <th>HST_CLOSE</th>\n",
       "      <th>DSPLY_NAME</th>\n",
       "    </tr>\n",
       "  </thead>\n",
       "  <tbody>\n",
       "    <tr>\n",
       "      <th>0</th>\n",
       "      <td>EUR=</td>\n",
       "      <td>13:16:00</td>\n",
       "      <td>1.1113</td>\n",
       "      <td>1.1117</td>\n",
       "      <td>0.0002</td>\n",
       "      <td>1.1144</td>\n",
       "      <td>1.1114</td>\n",
       "      <td>1.1111</td>\n",
       "      <td>1.1111</td>\n",
       "      <td>BARCLAYS     LON</td>\n",
       "    </tr>\n",
       "    <tr>\n",
       "      <th>1</th>\n",
       "      <td>GBP=</td>\n",
       "      <td>13:16:00</td>\n",
       "      <td>1.3066</td>\n",
       "      <td>1.3070</td>\n",
       "      <td>-0.0010</td>\n",
       "      <td>1.3131</td>\n",
       "      <td>1.3056</td>\n",
       "      <td>1.3077</td>\n",
       "      <td>1.3076</td>\n",
       "      <td>BARCLAYS     LON</td>\n",
       "    </tr>\n",
       "    <tr>\n",
       "      <th>2</th>\n",
       "      <td>JPY=</td>\n",
       "      <td>13:16:00</td>\n",
       "      <td>109.4800</td>\n",
       "      <td>109.5200</td>\n",
       "      <td>-0.0500</td>\n",
       "      <td>109.6700</td>\n",
       "      <td>109.4600</td>\n",
       "      <td>109.5400</td>\n",
       "      <td>109.5300</td>\n",
       "      <td>NEDBANK LTD  JHB</td>\n",
       "    </tr>\n",
       "    <tr>\n",
       "      <th>3</th>\n",
       "      <td>CAD=</td>\n",
       "      <td>13:16:00</td>\n",
       "      <td>1.3120</td>\n",
       "      <td>1.3124</td>\n",
       "      <td>0.0007</td>\n",
       "      <td>1.3126</td>\n",
       "      <td>1.3108</td>\n",
       "      <td>1.3110</td>\n",
       "      <td>1.3113</td>\n",
       "      <td>BARCLAYS     LON</td>\n",
       "    </tr>\n",
       "  </tbody>\n",
       "</table>\n",
       "</div>"
      ],
      "text/plain": [
       "  Instruments    TIMACT       BID       ASK  NETCHNG_1    HIGH_1     LOW_1  \\\n",
       "0        EUR=  13:16:00    1.1113    1.1117     0.0002    1.1144    1.1114   \n",
       "1        GBP=  13:16:00    1.3066    1.3070    -0.0010    1.3131    1.3056   \n",
       "2        JPY=  13:16:00  109.4800  109.5200    -0.0500  109.6700  109.4600   \n",
       "3        CAD=  13:16:00    1.3120    1.3124     0.0007    1.3126    1.3108   \n",
       "\n",
       "   OPEN_PRC  HST_CLOSE        DSPLY_NAME  \n",
       "0    1.1111     1.1111  BARCLAYS     LON  \n",
       "1    1.3077     1.3076  BARCLAYS     LON  \n",
       "2  109.5400   109.5300  NEDBANK LTD  JHB  \n",
       "3    1.3110     1.3113  BARCLAYS     LON  "
      ]
     },
     "metadata": {},
     "output_type": "display_data"
    }
   ],
   "source": [
    "tasks = asyncio.gather(\n",
    "    rdp.Pricing.get_snapshot_async(\n",
    "        universe = ['GOOG.O', 'AAPL.O', 'FB.O', 'AMZN.O'], \n",
    "        fields   = ['BID','ASK']\n",
    "    ),\n",
    "    rdp.Pricing.get_snapshot_async(\n",
    "        universe = ['EUR=', 'GBP=', 'JPY=', 'CAD='], \n",
    "        fields   = ['TIMACT','BID','ASK','NETCHNG_1','HIGH_1', 'LOW_1', 'OPEN_PRC', 'HST_CLOSE','DSPLY_NAME']\n",
    "    )\n",
    ")\n",
    "\n",
    "\n",
    "asyncio.get_event_loop().run_until_complete(tasks)\n",
    "gafa_response, fx_response = tasks._result\n",
    "\n",
    "display(gafa_response.data.df)\n",
    "display(fx_response.data.df)"
   ]
  },
  {
   "cell_type": "markdown",
   "metadata": {},
   "source": [
    "## Close the session"
   ]
  },
  {
   "cell_type": "code",
   "execution_count": 8,
   "metadata": {},
   "outputs": [],
   "source": [
    "rdp.close_session()"
   ]
  },
  {
   "cell_type": "code",
   "execution_count": null,
   "metadata": {},
   "outputs": [],
   "source": []
  }
 ],
 "metadata": {
  "kernelspec": {
   "display_name": "Python 3",
   "language": "python",
   "name": "python3"
  },
  "language_info": {
   "codemirror_mode": {
    "name": "ipython",
    "version": 3
   },
   "file_extension": ".py",
   "mimetype": "text/x-python",
   "name": "python",
   "nbconvert_exporter": "python",
   "pygments_lexer": "ipython3",
   "version": "3.7.0"
  }
 },
 "nbformat": 4,
 "nbformat_minor": 2
}

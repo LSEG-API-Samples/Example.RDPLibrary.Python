{
 "cells": [
  {
   "cell_type": "markdown",
   "metadata": {},
   "source": [
    "# Refinitiv Data Platform Library for Python\n",
    "## Delivery - EndPoint - Quantitative Analytic - Financial Contracts"
   ]
  },
  {
   "cell_type": "markdown",
   "metadata": {},
   "source": [
    "This notebook demonstrates how to use the Delivery Layer of the library to use a Quantitative Analytics of the Refinitiv Data Platform.\n",
    "\n",
    "#### Learn more\n",
    "\n",
    "To learn more about the Refinitiv Data Platform Data Libraries just connect to the Refinitiv Developer Community. By [registering](https://developers.refinitiv.com/iam/register) and [login](https://developers.refinitiv.com/iam/login) to the Refinitiv Developer Community portal you will get free access to a number of learning materials like [Quick Start guides](https://developers.refinitiv.com/refinitiv-data-platform/refinitiv-data-platform-libraries/quick-start), [Tutorials](https://developers.refinitiv.com/refinitiv-data-platform/refinitiv-data-platform-libraries/learning), [Documentation](https://developers.refinitiv.com/refinitiv-data-platform/refinitiv-data-platform-libraries/docs) and much more.  \n",
    "\n",
    "#### Getting Help and Support\n",
    "\n",
    "If you have any questions regarding the API usage, please post them on the [Refinitiv Data Platform Q&A Forum](https://community.developers.thomsonreuters.com/spaces/321/index.html). The Refinitiv Developer Community will be very pleased to help you. \n"
   ]
  },
  {
   "cell_type": "markdown",
   "metadata": {},
   "source": [
    "## Import the library and load credentials\n",
    "\n",
    "Credentials used by this notebook are stored in the ./credentials.ipynb. Please edit ./credentials.ipynb to set your credentials and run the next cell to continue with this scripts"
   ]
  },
  {
   "cell_type": "code",
   "execution_count": 15,
   "metadata": {},
   "outputs": [],
   "source": [
    "import refinitiv.dataplatform as rdp\n",
    "import pandas\n",
    "\n",
    "%run ./credentials.ipynb"
   ]
  },
  {
   "cell_type": "markdown",
   "metadata": {},
   "source": [
    "## Open the session of your choice\n",
    "\n",
    "Depending on the access point your application uses to connect to the Refinitiv Data Platform, it needs to call one of the following functions to create and open a session to the platform. This session will become the default session used by all other function calls."
   ]
  },
  {
   "cell_type": "markdown",
   "metadata": {},
   "source": [
    "#### Either\n",
    "\n",
    "Create and open a Desktop session to connect to the Refinitiv Data Platform pvia Eikon 4 or the Refinitiv Workspace."
   ]
  },
  {
   "cell_type": "code",
   "execution_count": 1,
   "metadata": {},
   "outputs": [],
   "source": [
    "# The current implementation of the library does not allow calling Quantitative Analytics via a DesktopSession  \n",
    "\n",
    "# session = rdp.open_desktop_session(APP_KEY)"
   ]
  },
  {
   "cell_type": "markdown",
   "metadata": {},
   "source": [
    "#### or\n",
    "\n",
    "Create and open a Platform session to connect directly to the Refinitiv Data Platform. "
   ]
  },
  {
   "cell_type": "code",
   "execution_count": 16,
   "metadata": {},
   "outputs": [],
   "source": [
    "session = rdp.open_platform_session(\n",
    "    APP_KEY, \n",
    "    rdp.GrantPassword(\n",
    "        username = RDP_LOGIN, \n",
    "        password = RDP_PASSWORD\n",
    "    )\n",
    ")"
   ]
  },
  {
   "cell_type": "markdown",
   "metadata": {},
   "source": [
    "#### or\n",
    "\n",
    "Create and open a Deployed Platform session to connect directly to a deployed enterprise platform (a.k.a.TREP). "
   ]
  },
  {
   "cell_type": "code",
   "execution_count": 1,
   "metadata": {},
   "outputs": [],
   "source": [
    "# The current implementation of the library does not allow News retrieval via DeployedPlatformSession  \n",
    "\n",
    "# session = rdp.open_deployed_platform_session(\n",
    "#    APP_KEY,\n",
    "#    DEPLOYED_PLATFORM_HOST,\n",
    "#    DEPLOYED_PLATFORM_USER_NAME\n",
    "#)"
   ]
  },
  {
   "cell_type": "markdown",
   "metadata": {},
   "source": [
    "## Create an EndPoint object for the Financial Contracts service"
   ]
  },
  {
   "cell_type": "code",
   "execution_count": 17,
   "metadata": {},
   "outputs": [],
   "source": [
    "endpoint = rdp.Endpoint(\n",
    "    session = rdp.get_default_session(), # Optionnal\n",
    "    url = \"https://api.refinitiv.com/data/quantitative-analytics/beta1/financial-contracts\")"
   ]
  },
  {
   "cell_type": "markdown",
   "metadata": {},
   "source": [
    "## Send a request"
   ]
  },
  {
   "cell_type": "code",
   "execution_count": 18,
   "metadata": {},
   "outputs": [],
   "source": [
    "response = endpoint.send_request(\n",
    "    method = rdp.Endpoint.RequestMethod.POST,\n",
    "    body_parameters = {\n",
    "                          \"fields\": [\n",
    "                            \"InstrumentCode\",\n",
    "                            \"BondType\",\n",
    "                            \"IssueDate\",\n",
    "                            \"EndDate\",\n",
    "                            \"CouponRatePercent\",\n",
    "                            \"Accrued\",\n",
    "                            \"CleanPrice\",\n",
    "                            \"DirtyPrice\",\n",
    "                            \"YieldPercent\",\n",
    "                            \"RedemptionDate\",\n",
    "                            \"ModifiedDuration\",\n",
    "                            \"Duration\",\n",
    "                            \"DV01Bp\",\n",
    "                            \"AverageLife\",\n",
    "                            \"Convexity\"\n",
    "                          ],\n",
    "                          \"outputs\": [\n",
    "                            \"Headers\",\n",
    "                            \"Data\"\n",
    "                          ],\n",
    "                          \"universe\": [\n",
    "                            {\n",
    "                              \"instrumentType\": \"Bond\",\n",
    "                              \"instrumentDefinition\": {\n",
    "                                \"instrumentTag\": \"TreasuryBond_10Y\",\n",
    "                                \"instrumentCode\": \"US10YT=RR\"\n",
    "                              }\n",
    "                            }\n",
    "                          ]\n",
    "                    }\n",
    ")"
   ]
  },
  {
   "cell_type": "markdown",
   "metadata": {},
   "source": [
    "## Display the result "
   ]
  },
  {
   "cell_type": "code",
   "execution_count": 19,
   "metadata": {},
   "outputs": [
    {
     "data": {
      "text/html": [
       "<div>\n",
       "<style scoped>\n",
       "    .dataframe tbody tr th:only-of-type {\n",
       "        vertical-align: middle;\n",
       "    }\n",
       "\n",
       "    .dataframe tbody tr th {\n",
       "        vertical-align: top;\n",
       "    }\n",
       "\n",
       "    .dataframe thead th {\n",
       "        text-align: right;\n",
       "    }\n",
       "</style>\n",
       "<table border=\"1\" class=\"dataframe\">\n",
       "  <thead>\n",
       "    <tr style=\"text-align: right;\">\n",
       "      <th></th>\n",
       "      <th>InstrumentCode</th>\n",
       "      <th>BondType</th>\n",
       "      <th>IssueDate</th>\n",
       "      <th>EndDate</th>\n",
       "      <th>CouponRatePercent</th>\n",
       "      <th>Accrued</th>\n",
       "      <th>CleanPrice</th>\n",
       "      <th>DirtyPrice</th>\n",
       "      <th>YieldPercent</th>\n",
       "      <th>RedemptionDate</th>\n",
       "      <th>ModifiedDuration</th>\n",
       "      <th>Duration</th>\n",
       "      <th>DV01Bp</th>\n",
       "      <th>AverageLife</th>\n",
       "      <th>Convexity</th>\n",
       "    </tr>\n",
       "  </thead>\n",
       "  <tbody>\n",
       "    <tr>\n",
       "      <th>0</th>\n",
       "      <td>US10YT=RR</td>\n",
       "      <td>FixedRateBond</td>\n",
       "      <td>2019-11-15T00:00:00Z</td>\n",
       "      <td>2029-11-15T00:00:00Z</td>\n",
       "      <td>1.75</td>\n",
       "      <td>0.168269</td>\n",
       "      <td>98.414062</td>\n",
       "      <td>98.582332</td>\n",
       "      <td>1.926592</td>\n",
       "      <td>2029-11-15T00:00:00Z</td>\n",
       "      <td>9.026211</td>\n",
       "      <td>9.11316</td>\n",
       "      <td>8.898249</td>\n",
       "      <td>9.903846</td>\n",
       "      <td>90.448173</td>\n",
       "    </tr>\n",
       "  </tbody>\n",
       "</table>\n",
       "</div>"
      ],
      "text/plain": [
       "  InstrumentCode       BondType             IssueDate               EndDate  \\\n",
       "0      US10YT=RR  FixedRateBond  2019-11-15T00:00:00Z  2029-11-15T00:00:00Z   \n",
       "\n",
       "   CouponRatePercent   Accrued  CleanPrice  DirtyPrice  YieldPercent  \\\n",
       "0               1.75  0.168269   98.414062   98.582332      1.926592   \n",
       "\n",
       "         RedemptionDate  ModifiedDuration  Duration    DV01Bp  AverageLife  \\\n",
       "0  2029-11-15T00:00:00Z          9.026211   9.11316  8.898249     9.903846   \n",
       "\n",
       "   Convexity  \n",
       "0  90.448173  "
      ]
     },
     "metadata": {},
     "output_type": "display_data"
    }
   ],
   "source": [
    "if response.is_success:\n",
    "    headers = [h['name'] for h in response.data.raw['headers']]\n",
    "    df = pandas.DataFrame(data=response.data.raw['data'], columns=headers)\n",
    "    display(df)"
   ]
  },
  {
   "cell_type": "markdown",
   "metadata": {},
   "source": [
    "## Close the session"
   ]
  },
  {
   "cell_type": "code",
   "execution_count": 20,
   "metadata": {},
   "outputs": [],
   "source": [
    "rdp.close_session()"
   ]
  },
  {
   "cell_type": "code",
   "execution_count": null,
   "metadata": {},
   "outputs": [],
   "source": []
  }
 ],
 "metadata": {
  "kernelspec": {
   "display_name": "Python 3",
   "language": "python",
   "name": "python3"
  },
  "language_info": {
   "codemirror_mode": {
    "name": "ipython",
    "version": 3
   },
   "file_extension": ".py",
   "mimetype": "text/x-python",
   "name": "python",
   "nbconvert_exporter": "python",
   "pygments_lexer": "ipython3",
   "version": "3.7.0"
  }
 },
 "nbformat": 4,
 "nbformat_minor": 2
}

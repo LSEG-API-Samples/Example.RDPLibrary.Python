{
 "cells": [
  {
   "cell_type": "markdown",
   "metadata": {},
   "source": [
    "# Refinitiv API Library Credentials"
   ]
  },
  {
   "cell_type": "code",
   "execution_count": null,
   "metadata": {},
   "outputs": [],
   "source": [
    "APP_KEY                     = 'YOUR_APP_KEY'\n",
    "RDP_LOGIN                   = 'YOUR_REFINITIV_DATA_PLATFORM_LOGIN'\n",
    "RDP_PASSWORD                = 'YOUR_REFINITIV_DATA_PLATFORM_PASSWORD'\n",
    "DEPLOYED_PLATFORM_HOST      = 'THE_IP_OF_YOUR_DEPLOYED_PLATFORM'         # a.k.a ADS or TREP\n",
    "DEPLOYED_PLATFORM_USER_NAME = 'YOUR_USER_NAME_ON_YOUR_DEPLOYED_PLATFORM' # a.k.a DACS user name "
   ]
  }
 ],
 "metadata": {
  "kernelspec": {
   "display_name": "Python 3",
   "language": "python",
   "name": "python3"
  },
  "language_info": {
   "codemirror_mode": {
    "name": "ipython",
    "version": 3
   },
   "file_extension": ".py",
   "mimetype": "text/x-python",
   "name": "python",
   "nbconvert_exporter": "python",
   "pygments_lexer": "ipython3",
   "version": "3.7.0"
  }
 },
 "nbformat": 4,
 "nbformat_minor": 2
}
